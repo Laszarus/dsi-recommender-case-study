{
 "cells": [
  {
   "cell_type": "code",
   "execution_count": 1,
   "metadata": {},
   "outputs": [],
   "source": [
    "from sklearn.model_selection import GridSearchCV\n",
    "from sklearn.metrics import mean_squared_error, r2_score\n",
    "import pandas as pd\n",
    "import pyspark\n",
    "from pyspark.sql import SparkSession\n",
    "import numpy as np\n",
    "from pyspark.ml.evaluation import RegressionEvaluator\n",
    "from pyspark.ml.recommendation import ALS\n",
    "from collections import defaultdict\n"
   ]
  },
  {
   "cell_type": "code",
   "execution_count": 2,
   "metadata": {},
   "outputs": [],
   "source": [
    "\n",
    "pd_ratings= pd.read_csv('../data/movies/ratings.csv')\n",
    "pd_ratings=pd_ratings.drop('timestamp', axis=1)\n"
   ]
  },
  {
   "cell_type": "code",
   "execution_count": 3,
   "metadata": {},
   "outputs": [],
   "source": [
    "spark = SparkSession.builder.getOrCreate()\n",
    "spark_ratings= spark.createDataFrame(pd_ratings) \n",
    "train, test = spark_ratings.randomSplit([0.8, 0.2], seed=42)"
   ]
  },
  {
   "cell_type": "code",
   "execution_count": 69,
   "metadata": {},
   "outputs": [
    {
     "data": {
      "text/plain": [
       "array([ 10.,  20.,  30.,  40.,  50.,  60.,  70.,  80.,  90., 100.])"
      ]
     },
     "execution_count": 69,
     "metadata": {},
     "output_type": "execute_result"
    }
   ],
   "source": [
    "maxIter_list = np.linspace(10,100, num=10)\n",
    "maxIter_list"
   ]
  },
  {
   "cell_type": "code",
   "execution_count": 70,
   "metadata": {},
   "outputs": [],
   "source": [
    "from collections import defaultdict\n",
    "rmse_dict= defaultdict(lambda: 'No_value')\n",
    "\n",
    "rank_list = np.linspace(1,20, num=20)\n",
    "maxIter_list = np.linspace(10,100, num=10)\n",
    "regParam_list=np.linspace(.05,1, num=20)\n",
    "numblock_list= np.linspace(5, 50, num=10)\n",
    "seed = 42\n",
    "cold_list='drop'\n",
    "checkpoint_list=[10,20,50,100,1000, 10000]"
   ]
  },
  {
   "cell_type": "markdown",
   "metadata": {},
   "source": [
    "ALS(self, rank=10, maxIter=10,\n",
    "    regParam=0.1, numUserBlocks=10, \n",
    "    numItemBlocks=10, \n",
    "    implicitPrefs=false, \n",
    "    alpha=1.0,\n",
    "    userCol=\"user\", \n",
    "    itemCol=\"item\",\n",
    "    seed=None, ratingCol=\"rating\",\n",
    "    nonnegative=false,\n",
    "    checkpointInterval=10, \n",
    "    intermediateStorageLevel=\"MEMORY_AND_DISK\",\n",
    "    finalStorageLevel=\"MEMORY_AND_DISK\", \n",
    "    coldStartStrategy=\"nan\")"
   ]
  },
  {
   "cell_type": "code",
   "execution_count": null,
   "metadata": {},
   "outputs": [
    {
     "name": "stdout",
     "output_type": "stream",
     "text": [
      "0.902558768118035\n",
      "0.902558768118035\n",
      "0.902558768118035\n",
      "0.9025587681180351\n",
      "0.9025587681180351\n",
      "0.902558768118035\n",
      "0.9034250492781775\n",
      "0.9034250492781775\n",
      "0.9034250492781774\n",
      "0.9034250492781774\n",
      "0.9034250492781775\n",
      "0.9034250492781774\n",
      "0.9030386539953867\n",
      "0.9030386539953867\n",
      "0.9030386539953867\n",
      "0.9030386539953867\n",
      "0.9030386539953869\n",
      "0.9030386539953867\n",
      "0.9041627433466949\n",
      "0.9041627433466949\n",
      "0.904162743346695\n",
      "0.9041627433466949\n",
      "0.904162743346695\n",
      "0.9041627433466949\n",
      "0.9039977163254037\n",
      "0.9039977163254037\n",
      "0.9039977163254037\n",
      "0.9039977163254037\n",
      "0.9039977163254037\n",
      "0.9039977163254037\n",
      "0.9031992186810075\n",
      "0.9031992186810075\n",
      "0.9031992186810075\n",
      "0.9031992186810075\n",
      "0.9031992186810075\n",
      "0.9031992186810075\n",
      "0.9038830387170398\n",
      "0.9038830387170398\n",
      "0.9038830387170398\n",
      "0.9038830387170398\n",
      "0.9038830387170399\n",
      "0.9038830387170398\n",
      "0.9038492262707636\n",
      "0.9038492262707636\n",
      "0.9038492262707636\n",
      "0.9038492262707636\n",
      "0.9038492262707635\n",
      "0.9038492262707636\n",
      "0.9034117625818329\n",
      "0.903411762581833\n",
      "0.9034117625818329\n",
      "0.9034117625818329\n",
      "0.903411762581833\n",
      "0.903411762581833\n",
      "0.90280064979492\n",
      "0.90280064979492\n",
      "0.90280064979492\n",
      "0.9028006497949199\n",
      "0.90280064979492\n",
      "0.90280064979492\n",
      "0.9054681602543639\n",
      "0.9054681602543638\n",
      "0.9054681602543638\n",
      "0.9054681602543639\n",
      "0.9054681602543638\n",
      "0.9054681602543639\n",
      "0.9066567129006441\n",
      "0.9066567129006441\n",
      "0.9066567129006441\n",
      "0.9066567129006441\n",
      "0.906656712900644\n",
      "0.9066567129006441\n",
      "0.9063778174160594\n",
      "0.9063778174160594\n",
      "0.9063778174160594\n",
      "0.9063778174160594\n",
      "0.9063778174160594\n",
      "0.9063778174160594\n",
      "0.9091806414111786\n",
      "0.9091806414111786\n",
      "0.9091806414111785\n",
      "0.9091806414111785\n",
      "0.9091806414111785\n",
      "0.9091806414111785\n",
      "0.908553607267255\n",
      "0.908553607267255\n",
      "0.9085536072672551\n",
      "0.9085536072672551\n",
      "0.9085536072672551\n",
      "0.908553607267255\n",
      "0.9065458627963366\n",
      "0.9065458627963366\n",
      "0.9065458627963366\n",
      "0.9065458627963366\n",
      "0.9065458627963366\n",
      "0.9065458627963366\n",
      "0.9088882349960901\n",
      "0.9088882349960902\n",
      "0.9088882349960902\n",
      "0.9088882349960901\n",
      "0.9088882349960901\n",
      "0.9088882349960901\n",
      "0.9081160589280182\n",
      "0.908116058928018\n",
      "0.9081160589280182\n",
      "0.908116058928018\n",
      "0.9081160589280182\n",
      "0.9081160589280182\n",
      "0.9084773127175162\n",
      "0.9084773127175163\n",
      "0.9084773127175162\n",
      "0.9084773127175162\n",
      "0.9084773127175163\n",
      "0.9084773127175162\n",
      "0.9059791510929476\n",
      "0.9059791510929477\n",
      "0.9059791510929477\n",
      "0.9059791510929476\n",
      "0.9059791510929476\n",
      "0.9059791510929477\n",
      "0.9104785420613094\n",
      "0.9104785420613094\n",
      "0.9104785420613094\n",
      "0.9104785420613094\n",
      "0.9104785420613094\n",
      "0.9104785420613094\n",
      "0.9116689917428425\n",
      "0.9116689917428425\n",
      "0.9116689917428425\n",
      "0.9116689917428423\n",
      "0.9116689917428423\n",
      "0.9116689917428423\n",
      "0.9115406323430821\n",
      "0.9115406323430821\n",
      "0.911540632343082\n",
      "0.911540632343082\n",
      "0.9115406323430821\n",
      "0.911540632343082\n",
      "0.9152862363068465\n",
      "0.9152862363068465\n",
      "0.9152862363068465\n",
      "0.9152862363068465\n",
      "0.9152862363068465\n",
      "0.9152862363068465\n",
      "0.9143641094990358\n",
      "0.9143641094990358\n",
      "0.9143641094990358\n",
      "0.9143641094990358\n",
      "0.9143641094990358\n",
      "0.9143641094990358\n",
      "0.9116922868675368\n",
      "0.9116922868675368\n",
      "0.9116922868675368\n",
      "0.9116922868675368\n",
      "0.9116922868675368\n",
      "0.9116922868675368\n",
      "0.915064982967447\n",
      "0.9150649829674471\n",
      "0.9150649829674471\n",
      "0.915064982967447\n",
      "0.9150649829674471\n",
      "0.9150649829674471\n"
     ]
    }
   ],
   "source": [
    "for rank in rank_list:\n",
    "    for maxIter in maxIter_list:\n",
    "        for regParam in regParam_list:\n",
    "            for numblock in numblock_list:\n",
    "                for checkpoint in checkpoint_list:\n",
    "                    factor_model = ALS(itemCol='movieId',userCol='userId',ratingCol='rating',nonnegative=True,coldStartStrategy='drop',\n",
    "                                       rank=rank, maxIter=maxIter, numUserBlocks=numblock, numItemBlocks=numblock,\n",
    "                                       checkpointInterval=checkpoint,regParam= regParam)\n",
    "                    ratings=factor_model.fit(train)\n",
    "                    predict=ratings.transform(test)\n",
    "                    rmse = evaluator.evaluate(predict)\n",
    "                    print(rmse)\n",
    "                    rmse_dict[rmse]=f'rank={rank},maxIter={maxIter},RegParam={regParam}, rank={rank},numblocks={numblock},interval={checkpoint}'"
   ]
  },
  {
   "cell_type": "code",
   "execution_count": 56,
   "metadata": {},
   "outputs": [],
   "source": [
    "factor_model = ALS(itemCol='movieId',userCol='userId',ratingCol='rating',nonnegative=True,\n",
    "                                       rank=20, maxIter=11, numUserBlocks=15, numItemBlocks=15,\n",
    "                                       checkpointInterval=20,regParam= .2)\n",
    "ratings=factor_model.fit(train)\n",
    "predict=ratings.transform(test)\n",
    "rmse = evaluator.evaluate(predict)\n",
    "rmse_dict[rmse]=ratings.extractParamMap()"
   ]
  },
  {
   "cell_type": "code",
   "execution_count": 53,
   "metadata": {},
   "outputs": [],
   "source": [
    "ratings=factor_model.fit(train)\n",
    "predict=ratings.transform(test)"
   ]
  },
  {
   "cell_type": "code",
   "execution_count": 54,
   "metadata": {},
   "outputs": [
    {
     "name": "stdout",
     "output_type": "stream",
     "text": [
      "0.9030821184249294\n",
      "{Param(parent='ALS_e30d4a146a06', name='coldStartStrategy', doc='strategy for dealing with unknown or new users/items at prediction time. This may be useful in cross-validation or production scenarios, for handling user/item ids the model has not seen in the training data. Supported values: nan,drop.'): 'drop', Param(parent='ALS_e30d4a146a06', name='itemCol', doc='column name for item ids. Ids must be within the integer value range.'): 'movieId', Param(parent='ALS_e30d4a146a06', name='predictionCol', doc='prediction column name'): 'prediction', Param(parent='ALS_e30d4a146a06', name='userCol', doc='column name for user ids. Ids must be within the integer value range.'): 'userId'}\n"
     ]
    }
   ],
   "source": [
    "evaluator = RegressionEvaluator(metricName=\"rmse\", labelCol=\"rating\",\n",
    "                                predictionCol=\"prediction\")\n",
    "rmse = evaluator.evaluate(predict)\n",
    "print(rmse)\n",
    "print(ratings.extractParamMap())"
   ]
  },
  {
   "cell_type": "code",
   "execution_count": null,
   "metadata": {},
   "outputs": [],
   "source": [
    "{Param(parent='ALS_e30d4a146a06', name='coldStartStrategy', \n",
    "       doc='strategy for dealing with unknown or new users/items at prediction time. \n",
    "       This may be useful in cross-validation or production scenarios, for handling user/item ids \n",
    "       the model has not seen in the training data. Supported values: nan,drop.'): 'drop', \n",
    "       Param(parent='ALS_e30d4a146a06', name='itemCol', doc='column name for item ids. \n",
    "             Ids must be within the integer value range.'): 'movieId',\n",
    "             Param(parent='ALS_e30d4a146a06', name='predictionCol', doc='prediction column name'):\n",
    "             'prediction', \n",
    "             Param(parent='ALS_e30d4a146a06', name='userCol', \n",
    "                   doc='column name for user ids. Ids must be within the integer value range.'): \n",
    " 'userId'}"
   ]
  }
 ],
 "metadata": {
  "kernelspec": {
   "display_name": "Python 3",
   "language": "python",
   "name": "python3"
  },
  "language_info": {
   "codemirror_mode": {
    "name": "ipython",
    "version": 3
   },
   "file_extension": ".py",
   "mimetype": "text/x-python",
   "name": "python",
   "nbconvert_exporter": "python",
   "pygments_lexer": "ipython3",
   "version": "3.7.1"
  }
 },
 "nbformat": 4,
 "nbformat_minor": 4
}
