{
 "cells": [
  {
   "cell_type": "code",
   "execution_count": 6,
   "metadata": {},
   "outputs": [],
   "source": [
    "import pandas as pd\n",
    "import pyspark\n",
    "import time\n",
    "from pyspark.sql import SparkSession\n",
    "import numpy as np\n",
    "from pyspark.ml.evaluation import RegressionEvaluator\n",
    "from pyspark.ml.recommendation import ALS\n",
    "\n",
    "seconds = time.time()"
   ]
  },
  {
   "cell_type": "code",
   "execution_count": null,
   "metadata": {},
   "outputs": [],
   "source": []
  },
  {
   "cell_type": "code",
   "execution_count": null,
   "metadata": {},
   "outputs": [],
   "source": []
  },
  {
   "cell_type": "code",
   "execution_count": 7,
   "metadata": {},
   "outputs": [],
   "source": [
    "movies=pd.read_csv('../data/movies/movies.csv')\n",
    "pd_ratings= pd.read_csv('../data/movies/ratings.csv')\n",
    "pd_ratings=pd_ratings.drop('timestamp', axis=1)\n",
    "tags=pd.read_csv('../data/movies/tags.csv')\n",
    "links=pd.read_csv('../data/movies/movies.csv')"
   ]
  },
  {
   "cell_type": "code",
   "execution_count": 8,
   "metadata": {},
   "outputs": [
    {
     "data": {
      "text/plain": [
       "userId     0\n",
       "movieId    0\n",
       "rating     0\n",
       "dtype: int64"
      ]
     },
     "execution_count": 8,
     "metadata": {},
     "output_type": "execute_result"
    }
   ],
   "source": [
    "pd_ratings.isna().sum()"
   ]
  },
  {
   "cell_type": "code",
   "execution_count": null,
   "metadata": {},
   "outputs": [],
   "source": []
  },
  {
   "cell_type": "code",
   "execution_count": null,
   "metadata": {},
   "outputs": [],
   "source": []
  },
  {
   "cell_type": "markdown",
   "metadata": {},
   "source": [
    " Setup a SparkSession\n",
    "spark = SparkSession.builder.getOrCreate()\n",
    "...\n",
    "\n",
    "# Convert a Pandas DF to a Spark DF\n",
    "spark_df = spark.createDataFrame(pandas_df) \n",
    "\n",
    "# Convert a Spark DF to a Pandas DF\n",
    "pandas_df = spark_df.toPandas()"
   ]
  },
  {
   "cell_type": "code",
   "execution_count": 9,
   "metadata": {},
   "outputs": [],
   "source": [
    "spark = SparkSession.builder.getOrCreate()\n",
    "spark_ratings= spark.createDataFrame(pd_ratings) \n",
    "train, test = spark_ratings.randomSplit([0.8, 0.2], seed=42)"
   ]
  },
  {
   "cell_type": "code",
   "execution_count": 10,
   "metadata": {},
   "outputs": [],
   "source": [
    "factor_model = ALS(\n",
    "    itemCol='movieId',\n",
    "    userCol='userId',\n",
    "    ratingCol='rating',\n",
    "    nonnegative=True,    \n",
    "    regParam=0.1,\n",
    "    coldStartStrategy='drop',\n",
    "    rank=20) "
   ]
  },
  {
   "cell_type": "code",
   "execution_count": 11,
   "metadata": {},
   "outputs": [],
   "source": [
    "ratings=factor_model.fit(train)"
   ]
  },
  {
   "cell_type": "code",
   "execution_count": 12,
   "metadata": {},
   "outputs": [
    {
     "name": "stdout",
     "output_type": "stream",
     "text": [
      "+------+-------+------+\n",
      "|userId|movieId|rating|\n",
      "+------+-------+------+\n",
      "|     1|   1029|   3.0|\n",
      "|     1|   1061|   3.0|\n",
      "|     1|   1129|   2.0|\n",
      "|     1|   2105|   4.0|\n",
      "|     1|   2294|   2.0|\n",
      "|     2|    186|   3.0|\n",
      "|     2|    300|   3.0|\n",
      "|     2|    314|   4.0|\n",
      "|     2|    319|   1.0|\n",
      "|     2|    364|   3.0|\n",
      "|     2|    372|   3.0|\n",
      "|     2|    508|   4.0|\n",
      "|     2|    550|   3.0|\n",
      "|     2|    552|   3.0|\n",
      "|     3|    267|   3.0|\n",
      "|     3|   2318|   4.0|\n",
      "|     3|   5349|   3.0|\n",
      "|     3|   7153|   2.5|\n",
      "|     3|   7361|   3.0|\n",
      "|     3|  27369|   3.5|\n",
      "+------+-------+------+\n",
      "only showing top 20 rows\n",
      "\n"
     ]
    }
   ],
   "source": [
    "test.show()"
   ]
  },
  {
   "cell_type": "code",
   "execution_count": null,
   "metadata": {},
   "outputs": [],
   "source": []
  },
  {
   "cell_type": "code",
   "execution_count": 18,
   "metadata": {},
   "outputs": [],
   "source": [
    "predict=ratings.transform(test)\n",
    "\n",
    "predictions_df = predict.toPandas()\n",
    "train= train.toPandas()\n",
    "predictions_df = predict.toPandas().fillna(train['rating'].mean())\n",
    "\n",
    "test_pd=test.toPandas()\n",
    "predictions_df['squared_error'] = (predictions_df['rating'] - predictions_df['prediction'])**2\n",
    "#print (predictions_df)"
   ]
  },
  {
   "cell_type": "code",
   "execution_count": 19,
   "metadata": {},
   "outputs": [
    {
     "data": {
      "text/plain": [
       "0.905366100045955"
      ]
     },
     "execution_count": 19,
     "metadata": {},
     "output_type": "execute_result"
    }
   ],
   "source": [
    "np.sqrt(sum(predictions_df['squared_error']) / len(predictions_df))"
   ]
  },
  {
   "cell_type": "code",
   "execution_count": 20,
   "metadata": {},
   "outputs": [],
   "source": [
    "evaluator = RegressionEvaluator(metricName=\"rmse\", labelCol=\"rating\",\n",
    "                                predictionCol=\"prediction\")\n",
    "rmse = evaluator.evaluate(predict)"
   ]
  },
  {
   "cell_type": "code",
   "execution_count": 21,
   "metadata": {},
   "outputs": [
    {
     "name": "stdout",
     "output_type": "stream",
     "text": [
      "0.9053661000459691\n"
     ]
    }
   ],
   "source": [
    "print (rmse)"
   ]
  },
  {
   "cell_type": "code",
   "execution_count": 22,
   "metadata": {},
   "outputs": [],
   "source": [
    "def top_x(n):\n",
    "    counter=np.linspace(1,n, num=n)\n",
    "    top_choices=[]\n",
    "    for place in range(1,n+1):\n",
    "        if place == 1:\n",
    "            choice = '1st'\n",
    "        if place == 2: \n",
    "            choice = '2nd'\n",
    "        if place == 3:  \n",
    "            choice = '3rd'\n",
    "        else:\n",
    "            choice = str(place) + 'th'\n",
    "        top_choices.append(choice)\n",
    "    return top_choices\n"
   ]
  },
  {
   "cell_type": "code",
   "execution_count": 23,
   "metadata": {},
   "outputs": [
    {
     "data": {
      "text/plain": [
       "['1th', '2th', '3rd', '4th', '5th', '6th', '7th', '8th', '9th', '10th']"
      ]
     },
     "execution_count": 23,
     "metadata": {},
     "output_type": "execute_result"
    }
   ],
   "source": [
    "n=10\n",
    "col_names=top_x(n)\n",
    "userRecs = ratings.recommendForAllUsers(n)\n",
    "# Generate top 10 user recommendations for each movie\n",
    "movieRecs = ratings.recommendForAllItems(n)\n",
    "col_names"
   ]
  },
  {
   "cell_type": "code",
   "execution_count": 47,
   "metadata": {},
   "outputs": [
    {
     "data": {
      "text/plain": [
       "[Row(movieId=83411, rating=4.8572258949279785),\n",
       " Row(movieId=67504, rating=4.8572258949279785),\n",
       " Row(movieId=83318, rating=4.8572258949279785),\n",
       " Row(movieId=59684, rating=4.756404399871826),\n",
       " Row(movieId=31435, rating=4.756404399871826),\n",
       " Row(movieId=3414, rating=4.695611953735352),\n",
       " Row(movieId=3038, rating=4.569250106811523),\n",
       " Row(movieId=134130, rating=4.555432319641113),\n",
       " Row(movieId=76173, rating=4.537815570831299),\n",
       " Row(movieId=8132, rating=4.528042316436768)]"
      ]
     },
     "execution_count": 47,
     "metadata": {},
     "output_type": "execute_result"
    }
   ],
   "source": [
    "best_movies=userRecs.toPandas()\n",
    "best_movies.recommendations[0]"
   ]
  },
  {
   "cell_type": "code",
   "execution_count": 39,
   "metadata": {},
   "outputs": [
    {
     "data": {
      "text/html": [
       "<div>\n",
       "<style scoped>\n",
       "    .dataframe tbody tr th:only-of-type {\n",
       "        vertical-align: middle;\n",
       "    }\n",
       "\n",
       "    .dataframe tbody tr th {\n",
       "        vertical-align: top;\n",
       "    }\n",
       "\n",
       "    .dataframe thead th {\n",
       "        text-align: right;\n",
       "    }\n",
       "</style>\n",
       "<table border=\"1\" class=\"dataframe\">\n",
       "  <thead>\n",
       "    <tr style=\"text-align: right;\">\n",
       "      <th></th>\n",
       "      <th>0</th>\n",
       "      <th>1</th>\n",
       "    </tr>\n",
       "  </thead>\n",
       "  <tbody>\n",
       "    <tr>\n",
       "      <th>0</th>\n",
       "      <td>83411</td>\n",
       "      <td>4.857226</td>\n",
       "    </tr>\n",
       "    <tr>\n",
       "      <th>1</th>\n",
       "      <td>67504</td>\n",
       "      <td>4.857226</td>\n",
       "    </tr>\n",
       "    <tr>\n",
       "      <th>2</th>\n",
       "      <td>83318</td>\n",
       "      <td>4.857226</td>\n",
       "    </tr>\n",
       "    <tr>\n",
       "      <th>3</th>\n",
       "      <td>59684</td>\n",
       "      <td>4.756404</td>\n",
       "    </tr>\n",
       "    <tr>\n",
       "      <th>4</th>\n",
       "      <td>31435</td>\n",
       "      <td>4.756404</td>\n",
       "    </tr>\n",
       "  </tbody>\n",
       "</table>\n",
       "</div>"
      ],
      "text/plain": [
       "       0         1\n",
       "0  83411  4.857226\n",
       "1  67504  4.857226\n",
       "2  83318  4.857226\n",
       "3  59684  4.756404\n",
       "4  31435  4.756404"
      ]
     },
     "execution_count": 39,
     "metadata": {},
     "output_type": "execute_result"
    }
   ],
   "source": [
    "recs.head()"
   ]
  },
  {
   "cell_type": "code",
   "execution_count": 45,
   "metadata": {},
   "outputs": [
    {
     "data": {
      "text/html": [
       "<div>\n",
       "<style scoped>\n",
       "    .dataframe tbody tr th:only-of-type {\n",
       "        vertical-align: middle;\n",
       "    }\n",
       "\n",
       "    .dataframe tbody tr th {\n",
       "        vertical-align: top;\n",
       "    }\n",
       "\n",
       "    .dataframe thead th {\n",
       "        text-align: right;\n",
       "    }\n",
       "</style>\n",
       "<table border=\"1\" class=\"dataframe\">\n",
       "  <thead>\n",
       "    <tr style=\"text-align: right;\">\n",
       "      <th></th>\n",
       "      <th>movieId</th>\n",
       "      <th>ratings</th>\n",
       "    </tr>\n",
       "  </thead>\n",
       "  <tbody>\n",
       "    <tr>\n",
       "      <th>0</th>\n",
       "      <td>83411</td>\n",
       "      <td>4.857226</td>\n",
       "    </tr>\n",
       "    <tr>\n",
       "      <th>1</th>\n",
       "      <td>67504</td>\n",
       "      <td>4.857226</td>\n",
       "    </tr>\n",
       "    <tr>\n",
       "      <th>2</th>\n",
       "      <td>83318</td>\n",
       "      <td>4.857226</td>\n",
       "    </tr>\n",
       "    <tr>\n",
       "      <th>3</th>\n",
       "      <td>59684</td>\n",
       "      <td>4.756404</td>\n",
       "    </tr>\n",
       "    <tr>\n",
       "      <th>4</th>\n",
       "      <td>31435</td>\n",
       "      <td>4.756404</td>\n",
       "    </tr>\n",
       "  </tbody>\n",
       "</table>\n",
       "</div>"
      ],
      "text/plain": [
       "   movieId   ratings\n",
       "0    83411  4.857226\n",
       "1    67504  4.857226\n",
       "2    83318  4.857226\n",
       "3    59684  4.756404\n",
       "4    31435  4.756404"
      ]
     },
     "execution_count": 45,
     "metadata": {},
     "output_type": "execute_result"
    }
   ],
   "source": [
    "recs = best_movies.recommendations[0]\n",
    "recs = pd.DataFrame(recs)\n",
    "recs.columns = ['movieId','ratings']\n",
    "\n",
    "for x in range(1,len(pd_movies)):\n",
    "    recs.replace({'movieId': x}, pd_movies['title'][x-1],inplace=True)"
   ]
  },
  {
   "cell_type": "code",
   "execution_count": 16,
   "metadata": {},
   "outputs": [],
   "source": [
    "#df[['b1', 'b2']] = pd.DataFrame(df['b'].tolist(), index=df.index)\n",
    "\n",
    "ranked=pd.DataFrame(best_movies['recommendations'].tolist(), index=best_movies.index)\n",
    "\n",
    "#best_movies[['Best','2nd,','3rd']]=pd.DataFrame(best_movies['recommendations'], index=best_movies.index)"
   ]
  },
  {
   "cell_type": "code",
   "execution_count": null,
   "metadata": {},
   "outputs": [],
   "source": []
  },
  {
   "cell_type": "code",
   "execution_count": null,
   "metadata": {},
   "outputs": [],
   "source": []
  }
 ],
 "metadata": {
  "kernelspec": {
   "display_name": "Python 3",
   "language": "python",
   "name": "python3"
  },
  "language_info": {
   "codemirror_mode": {
    "name": "ipython",
    "version": 3
   },
   "file_extension": ".py",
   "mimetype": "text/x-python",
   "name": "python",
   "nbconvert_exporter": "python",
   "pygments_lexer": "ipython3",
   "version": "3.7.3"
  }
 },
 "nbformat": 4,
 "nbformat_minor": 4
}
