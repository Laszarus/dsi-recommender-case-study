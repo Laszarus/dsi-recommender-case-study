{
 "cells": [
  {
   "cell_type": "code",
   "execution_count": 1,
   "metadata": {},
   "outputs": [],
   "source": [
    "import pandas as pd\n",
    "import pyspark\n",
    "from pyspark.sql import SparkSession\n",
    "import numpy as np\n",
    "from pyspark.ml.evaluation import RegressionEvaluator\n",
    "from pyspark.ml.recommendation import ALS"
   ]
  },
  {
   "cell_type": "code",
   "execution_count": null,
   "metadata": {},
   "outputs": [],
   "source": []
  },
  {
   "cell_type": "code",
   "execution_count": 2,
   "metadata": {},
   "outputs": [],
   "source": [
    "movies=pd.read_csv('../data/movies/movies.csv')\n",
    "pd_ratings= pd.read_csv('../data/movies/ratings.csv')\n",
    "pd_ratings=pd_ratings.drop('timestamp', axis=1)\n",
    "tags=pd.read_csv('../data/movies/tags.csv')\n",
    "links=pd.read_csv('../data/movies/movies.csv')"
   ]
  },
  {
   "cell_type": "code",
   "execution_count": 3,
   "metadata": {},
   "outputs": [
    {
     "data": {
      "text/plain": [
       "userId     0\n",
       "movieId    0\n",
       "rating     0\n",
       "dtype: int64"
      ]
     },
     "execution_count": 3,
     "metadata": {},
     "output_type": "execute_result"
    }
   ],
   "source": [
    "pd_ratings.isna().sum()"
   ]
  },
  {
   "cell_type": "code",
   "execution_count": null,
   "metadata": {},
   "outputs": [],
   "source": []
  },
  {
   "cell_type": "code",
   "execution_count": null,
   "metadata": {},
   "outputs": [],
   "source": []
  },
  {
   "cell_type": "markdown",
   "metadata": {},
   "source": [
    " Setup a SparkSession\n",
    "spark = SparkSession.builder.getOrCreate()\n",
    "...\n",
    "\n",
    "# Convert a Pandas DF to a Spark DF\n",
    "spark_df = spark.createDataFrame(pandas_df) \n",
    "\n",
    "# Convert a Spark DF to a Pandas DF\n",
    "pandas_df = spark_df.toPandas()"
   ]
  },
  {
   "cell_type": "code",
   "execution_count": 4,
   "metadata": {},
   "outputs": [],
   "source": [
    "spark = SparkSession.builder.getOrCreate()\n",
    "spark_ratings= spark.createDataFrame(pd_ratings) \n",
    "train, test = spark_ratings.randomSplit([0.8, 0.2], seed=42)"
   ]
  },
  {
   "cell_type": "code",
   "execution_count": 5,
   "metadata": {},
   "outputs": [],
   "source": [
    "factor_model = ALS(\n",
    "    itemCol='movieId',\n",
    "    userCol='userId',\n",
    "    ratingCol='rating',\n",
    "    nonnegative=True,    \n",
    "    regParam=0.1,\n",
    "    coldStartStrategy='drop',\n",
    "    rank=20) "
   ]
  },
  {
   "cell_type": "code",
   "execution_count": 6,
   "metadata": {},
   "outputs": [],
   "source": [
    "ratings=factor_model.fit(train)"
   ]
  },
  {
   "cell_type": "code",
   "execution_count": 7,
   "metadata": {},
   "outputs": [
    {
     "name": "stdout",
     "output_type": "stream",
     "text": [
      "+------+-------+------+\n",
      "|userId|movieId|rating|\n",
      "+------+-------+------+\n",
      "|     1|   1029|   3.0|\n",
      "|     1|   1061|   3.0|\n",
      "|     1|   1129|   2.0|\n",
      "|     1|   2105|   4.0|\n",
      "|     1|   2294|   2.0|\n",
      "|     2|    186|   3.0|\n",
      "|     2|    300|   3.0|\n",
      "|     2|    314|   4.0|\n",
      "|     2|    319|   1.0|\n",
      "|     2|    364|   3.0|\n",
      "|     2|    372|   3.0|\n",
      "|     2|    508|   4.0|\n",
      "|     2|    550|   3.0|\n",
      "|     2|    552|   3.0|\n",
      "|     3|    267|   3.0|\n",
      "|     3|   2318|   4.0|\n",
      "|     3|   5349|   3.0|\n",
      "|     3|   7153|   2.5|\n",
      "|     3|   7361|   3.0|\n",
      "|     3|  27369|   3.5|\n",
      "+------+-------+------+\n",
      "only showing top 20 rows\n",
      "\n"
     ]
    }
   ],
   "source": [
    "test.show()"
   ]
  },
  {
   "cell_type": "code",
   "execution_count": null,
   "metadata": {},
   "outputs": [],
   "source": []
  },
  {
   "cell_type": "code",
   "execution_count": 8,
   "metadata": {},
   "outputs": [],
   "source": [
    "predict=ratings.transform(test)\n",
    "\n",
    "predictions_df = predict.toPandas()\n",
    "train= train.toPandas()\n",
    "predictions_df = predict.toPandas().fillna(train['rating'].mean())\n",
    "\n",
    "test_pd=test.toPandas()\n",
    "predictions_df['squared_error'] = (predictions_df['rating'] - predictions_df['prediction'])**2\n",
    "#print (predictions_df)\n"
   ]
  },
  {
   "cell_type": "code",
   "execution_count": 9,
   "metadata": {},
   "outputs": [
    {
     "data": {
      "text/plain": [
       "0.9059407769452981"
      ]
     },
     "execution_count": 9,
     "metadata": {},
     "output_type": "execute_result"
    }
   ],
   "source": [
    "np.sqrt(sum(predictions_df['squared_error']) / len(predictions_df))"
   ]
  },
  {
   "cell_type": "code",
   "execution_count": 10,
   "metadata": {},
   "outputs": [],
   "source": [
    "evaluator = RegressionEvaluator(metricName=\"rmse\", labelCol=\"rating\",\n",
    "                                predictionCol=\"prediction\")\n",
    "rmse = evaluator.evaluate(predict)"
   ]
  },
  {
   "cell_type": "code",
   "execution_count": 11,
   "metadata": {},
   "outputs": [
    {
     "name": "stdout",
     "output_type": "stream",
     "text": [
      "0.9059407769453109\n"
     ]
    }
   ],
   "source": [
    "print (rmse)"
   ]
  },
  {
   "cell_type": "code",
   "execution_count": 23,
   "metadata": {},
   "outputs": [],
   "source": [
    "def top_x(n):\n",
    "    counter=np.linspace(1,n, num=n)\n",
    "    top_choices=[]\n",
    "    for place in range(1,n+1):\n",
    "        if place == 1:\n",
    "            choice = '1st'\n",
    "        if place == 2: \n",
    "            choice = '2nd'\n",
    "        if place == 3:  \n",
    "            choice = '3rd'\n",
    "        else:\n",
    "            choice = str(place) + 'th'\n",
    "        top_choices.append(choice)\n",
    "    return top_choices\n"
   ]
  },
  {
   "cell_type": "code",
   "execution_count": 24,
   "metadata": {},
   "outputs": [
    {
     "data": {
      "text/plain": [
       "['1th', '2th', '3rd', '4th', '5th', '6th', '7th', '8th', '9th', '10th']"
      ]
     },
     "execution_count": 24,
     "metadata": {},
     "output_type": "execute_result"
    }
   ],
   "source": [
    "n=10\n",
    "col_names=top_x(n)\n",
    "userRecs = ratings.recommendForAllUsers(n)\n",
    "# Generate top 10 user recommendations for each movie\n",
    "movieRecs = ratings.recommendForAllItems(n)\n",
    "col_names"
   ]
  },
  {
   "cell_type": "code",
   "execution_count": 14,
   "metadata": {},
   "outputs": [],
   "source": [
    "best_movies=userRecs.toPandas()\n"
   ]
  },
  {
   "cell_type": "code",
   "execution_count": 15,
   "metadata": {},
   "outputs": [
    {
     "data": {
      "text/plain": [
       "[Row(movieId=83411, rating=4.898439407348633),\n",
       " Row(movieId=67504, rating=4.898439407348633),\n",
       " Row(movieId=83359, rating=4.898439407348633),\n",
       " Row(movieId=108583, rating=4.693892478942871),\n",
       " Row(movieId=3030, rating=4.692594051361084),\n",
       " Row(movieId=59684, rating=4.631417274475098),\n",
       " Row(movieId=31435, rating=4.594638347625732),\n",
       " Row(movieId=54328, rating=4.59224796295166),\n",
       " Row(movieId=3414, rating=4.576173305511475),\n",
       " Row(movieId=52767, rating=4.524228096008301)]"
      ]
     },
     "execution_count": 15,
     "metadata": {},
     "output_type": "execute_result"
    }
   ],
   "source": [
    "best_movies.recommendations[0]"
   ]
  },
  {
   "cell_type": "code",
   "execution_count": 16,
   "metadata": {},
   "outputs": [],
   "source": [
    "#df[['b1', 'b2']] = pd.DataFrame(df['b'].tolist(), index=df.index)\n",
    "\n",
    "ranked=pd.DataFrame(best_movies['recommendations'].tolist(), index=best_movies.index)\n",
    "\n",
    "#best_movies[['Best','2nd,','3rd']]=pd.DataFrame(best_movies['recommendations'], index=best_movies.index)"
   ]
  },
  {
   "cell_type": "code",
   "execution_count": null,
   "metadata": {},
   "outputs": [],
   "source": []
  },
  {
   "cell_type": "code",
   "execution_count": null,
   "metadata": {},
   "outputs": [],
   "source": []
  }
 ],
 "metadata": {
  "kernelspec": {
   "display_name": "Python 3",
   "language": "python",
   "name": "python3"
  },
  "language_info": {
   "codemirror_mode": {
    "name": "ipython",
    "version": 3
   },
   "file_extension": ".py",
   "mimetype": "text/x-python",
   "name": "python",
   "nbconvert_exporter": "python",
   "pygments_lexer": "ipython3",
   "version": "3.7.3"
  }
 },
 "nbformat": 4,
 "nbformat_minor": 4
}
