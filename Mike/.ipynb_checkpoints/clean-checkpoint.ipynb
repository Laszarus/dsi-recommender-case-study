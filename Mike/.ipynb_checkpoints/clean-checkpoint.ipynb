{
 "cells": [
  {
   "cell_type": "code",
   "execution_count": 1,
   "metadata": {},
   "outputs": [],
   "source": [
    "import pandas as pd\n",
    "import pyspark\n",
    "from pyspark.sql import SparkSession\n",
    "from pyspark.sql import SQLContext\n",
    "import numpy as np\n",
    "from pyspark.ml.evaluation import RegressionEvaluator\n",
    "from pyspark.ml.recommendation import ALS\n",
    "import time\n",
    "spark = SparkSession.builder.getOrCreate()"
   ]
  },
  {
   "cell_type": "code",
   "execution_count": 2,
   "metadata": {},
   "outputs": [],
   "source": [
    "start_time = time.time()"
   ]
  },
  {
   "cell_type": "markdown",
   "metadata": {},
   "source": [
    "#100K\n",
    "#pd_ratings= pd.read_csv('../data/movies/ratings.csv')\n",
    "#20 million\n",
    "pd_ratings= pd.read_csv('../data/movies/ml-20m/ratings.csv')"
   ]
  },
  {
   "cell_type": "code",
   "execution_count": 3,
   "metadata": {},
   "outputs": [
    {
     "name": "stderr",
     "output_type": "stream",
     "text": [
      "/opt/conda/lib/python3.7/site-packages/ipykernel_launcher.py:7: ParserWarning: Falling back to the 'python' engine because the 'c' engine does not support regex separators (separators > 1 char and different from '\\s+' are interpreted as regex); you can avoid this warning by specifying engine='python'.\n",
      "  import sys\n"
     ]
    }
   ],
   "source": [
    "#100K\n",
    "\n",
    "#pd_ratings= pd.read_csv('../data/movies/ratings.csv')\n",
    "#20 mil\n",
    "#pd_ratings= pd.read_csv('../data/movies/ml-20m/ratings.csv')\n",
    "\n",
    "pd_ratings= pd.read_csv('../data/movies/ml-1m/ratings.dat', sep='::', names =['userId','movieId','rating','timestamp'])\n",
    "pd_ratings=pd_ratings.drop(['timestamp'], axis=1)\n"
   ]
  },
  {
   "cell_type": "code",
   "execution_count": 4,
   "metadata": {},
   "outputs": [
    {
     "data": {
      "text/html": [
       "<div>\n",
       "<style scoped>\n",
       "    .dataframe tbody tr th:only-of-type {\n",
       "        vertical-align: middle;\n",
       "    }\n",
       "\n",
       "    .dataframe tbody tr th {\n",
       "        vertical-align: top;\n",
       "    }\n",
       "\n",
       "    .dataframe thead th {\n",
       "        text-align: right;\n",
       "    }\n",
       "</style>\n",
       "<table border=\"1\" class=\"dataframe\">\n",
       "  <thead>\n",
       "    <tr style=\"text-align: right;\">\n",
       "      <th></th>\n",
       "      <th>userId</th>\n",
       "      <th>movieId</th>\n",
       "      <th>rating</th>\n",
       "    </tr>\n",
       "  </thead>\n",
       "  <tbody>\n",
       "    <tr>\n",
       "      <td>0</td>\n",
       "      <td>1</td>\n",
       "      <td>1193</td>\n",
       "      <td>5</td>\n",
       "    </tr>\n",
       "    <tr>\n",
       "      <td>1</td>\n",
       "      <td>1</td>\n",
       "      <td>661</td>\n",
       "      <td>3</td>\n",
       "    </tr>\n",
       "    <tr>\n",
       "      <td>2</td>\n",
       "      <td>1</td>\n",
       "      <td>914</td>\n",
       "      <td>3</td>\n",
       "    </tr>\n",
       "    <tr>\n",
       "      <td>3</td>\n",
       "      <td>1</td>\n",
       "      <td>3408</td>\n",
       "      <td>4</td>\n",
       "    </tr>\n",
       "    <tr>\n",
       "      <td>4</td>\n",
       "      <td>1</td>\n",
       "      <td>2355</td>\n",
       "      <td>5</td>\n",
       "    </tr>\n",
       "  </tbody>\n",
       "</table>\n",
       "</div>"
      ],
      "text/plain": [
       "   userId  movieId  rating\n",
       "0       1     1193       5\n",
       "1       1      661       3\n",
       "2       1      914       3\n",
       "3       1     3408       4\n",
       "4       1     2355       5"
      ]
     },
     "execution_count": 4,
     "metadata": {},
     "output_type": "execute_result"
    }
   ],
   "source": [
    "pd_ratings.head()"
   ]
  },
  {
   "cell_type": "code",
   "execution_count": 5,
   "metadata": {},
   "outputs": [
    {
     "name": "stdout",
     "output_type": "stream",
     "text": [
      "34.33968710899353\n"
     ]
    }
   ],
   "source": [
    "\n",
    "spark_ratings= spark.createDataFrame(pd_ratings) \n",
    "#spark_ratings = spark.read.csv('../data/movies/ml-1m/ratings.dat', header=True)\n",
    "#spark_ratings= spark.read.option(\"delimiter\", \":\").csv('../data/movies/ml-1m/ratings.dat')\n",
    "#spark_ratings = spark.read.csv('../data/movies/ml-1m/ratings.csv').toDF('Idx','UserId','MovieId','Rating', 'timestamp')\n",
    "train, test = spark_ratings.randomSplit([0.8, 0.2], seed=42)\n",
    "load_time=time.time()\n",
    "print(load_time-start_time)"
   ]
  },
  {
   "cell_type": "code",
   "execution_count": 6,
   "metadata": {},
   "outputs": [
    {
     "name": "stdout",
     "output_type": "stream",
     "text": [
      "+------+-------+------+\n",
      "|userId|movieId|rating|\n",
      "+------+-------+------+\n",
      "|     1|      1|     5|\n",
      "|     1|    527|     5|\n",
      "|     1|    531|     4|\n",
      "|     1|    588|     4|\n",
      "|     1|    594|     4|\n",
      "|     1|    595|     5|\n",
      "|     1|    608|     4|\n",
      "|     1|    661|     3|\n",
      "|     1|    720|     3|\n",
      "|     1|    745|     3|\n",
      "|     1|    914|     3|\n",
      "|     1|    919|     4|\n",
      "|     1|   1022|     5|\n",
      "|     1|   1028|     5|\n",
      "|     1|   1029|     5|\n",
      "|     1|   1035|     5|\n",
      "|     1|   1097|     4|\n",
      "|     1|   1193|     5|\n",
      "|     1|   1197|     3|\n",
      "|     1|   1207|     4|\n",
      "+------+-------+------+\n",
      "only showing top 20 rows\n",
      "\n"
     ]
    }
   ],
   "source": [
    "train.show()"
   ]
  },
  {
   "cell_type": "code",
   "execution_count": 7,
   "metadata": {},
   "outputs": [],
   "source": [
    "factor_model = ALS(\n",
    "    itemCol='movieId',\n",
    "    userCol='userId',\n",
    "    ratingCol='rating',\n",
    "    nonnegative=True,    \n",
    "    regParam=0.1,\n",
    "    coldStartStrategy='drop',\n",
    "    rank=20) "
   ]
  },
  {
   "cell_type": "code",
   "execution_count": 8,
   "metadata": {},
   "outputs": [
    {
     "name": "stdout",
     "output_type": "stream",
     "text": [
      "5.869081020355225\n"
     ]
    }
   ],
   "source": [
    "model_start_time=time.time()\n",
    "ratings=factor_model.fit(train)\n",
    "stop_train_time=time.time()\n",
    "print(stop_train_time-model_start_time)"
   ]
  },
  {
   "cell_type": "code",
   "execution_count": 9,
   "metadata": {},
   "outputs": [
    {
     "name": "stdout",
     "output_type": "stream",
     "text": [
      "0.053322792053222656\n"
     ]
    }
   ],
   "source": [
    "predict=ratings.transform(test)\n",
    "transform_test_time=time.time()\n",
    "print(transform_test_time-stop_train_time)\n"
   ]
  },
  {
   "cell_type": "code",
   "execution_count": 12,
   "metadata": {},
   "outputs": [
    {
     "name": "stdout",
     "output_type": "stream",
     "text": [
      "0.8690048721434661\n",
      "10.572710514068604\n"
     ]
    }
   ],
   "source": [
    "rmse_1_start_time=time.time()\n",
    "predictions_df = predict.toPandas()\n",
    "train= train.toPandas()\n",
    "predictions_df = predict.toPandas().fillna(train['rating'].mean())\n",
    "test_pd=test.toPandas()\n",
    "predictions_df['squared_error'] = (predictions_df['rating'] - predictions_df['prediction'])**2\n",
    "rmse_1= np.sqrt(sum(predictions_df['squared_error']) / len(predictions_df))\n",
    "rmse_1_end_time=time.time()\n",
    "print(rmse_1)\n",
    "print(rmse_1_end_time-rmse_1_start_time)"
   ]
  },
  {
   "cell_type": "code",
   "execution_count": 10,
   "metadata": {},
   "outputs": [
    {
     "name": "stdout",
     "output_type": "stream",
     "text": [
      "0.869004872075605\n",
      "0.0\n"
     ]
    }
   ],
   "source": [
    "rmse_2_end_time=time.time()\n",
    "evaluator = RegressionEvaluator(metricName=\"rmse\", labelCol=\"rating\",\n",
    "                                predictionCol=\"prediction\")\n",
    "rmse_2 = evaluator.evaluate(predict)\n",
    "rmse_2_end_time=time.time()\n",
    "print(rmse_2)\n",
    "print(rmse_2_end_time-rmse_2_end_time)"
   ]
  },
  {
   "cell_type": "code",
   "execution_count": 11,
   "metadata": {},
   "outputs": [
    {
     "name": "stdout",
     "output_type": "stream",
     "text": [
      "total_time from load to RMSE =46.17967343330383\n",
      "total_time from model to RMSE =10.316545009613037\n"
     ]
    }
   ],
   "source": [
    "load_to_end = rmse_2_end_time-start_time\n",
    "model_to_end = rmse_2_end_time-model_start_time\n",
    "print(f'total_time from load to RMSE ={load_to_end}')\n",
    "print(f'total_time from model to RMSE ={model_to_end}')"
   ]
  },
  {
   "cell_type": "code",
   "execution_count": null,
   "metadata": {},
   "outputs": [],
   "source": []
  }
 ],
 "metadata": {
  "kernelspec": {
   "display_name": "Python 3",
   "language": "python",
   "name": "python3"
  },
  "language_info": {
   "codemirror_mode": {
    "name": "ipython",
    "version": 3
   },
   "file_extension": ".py",
   "mimetype": "text/x-python",
   "name": "python",
   "nbconvert_exporter": "python",
   "pygments_lexer": "ipython3",
   "version": "3.7.3"
  }
 },
 "nbformat": 4,
 "nbformat_minor": 4
}
