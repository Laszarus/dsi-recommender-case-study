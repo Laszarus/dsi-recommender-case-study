{
 "cells": [
  {
   "cell_type": "code",
   "execution_count": 1,
   "metadata": {},
   "outputs": [
    {
     "ename": "ModuleNotFoundError",
     "evalue": "No module named 'surprise'",
     "output_type": "error",
     "traceback": [
      "\u001b[0;31m---------------------------------------------------------------------------\u001b[0m",
      "\u001b[0;31mModuleNotFoundError\u001b[0m                       Traceback (most recent call last)",
      "\u001b[0;32m<ipython-input-1-133b74d0aaa1>\u001b[0m in \u001b[0;36m<module>\u001b[0;34m\u001b[0m\n\u001b[1;32m      4\u001b[0m \u001b[0;32mimport\u001b[0m \u001b[0msys\u001b[0m\u001b[0;34m\u001b[0m\u001b[0;34m\u001b[0m\u001b[0m\n\u001b[1;32m      5\u001b[0m \u001b[0;32mimport\u001b[0m \u001b[0mnumpy\u001b[0m \u001b[0;32mas\u001b[0m \u001b[0mnp\u001b[0m\u001b[0;34m\u001b[0m\u001b[0;34m\u001b[0m\u001b[0m\n\u001b[0;32m----> 6\u001b[0;31m \u001b[0;32mfrom\u001b[0m \u001b[0msurprise\u001b[0m \u001b[0;32mimport\u001b[0m \u001b[0mAlgoBase\u001b[0m\u001b[0;34m,\u001b[0m \u001b[0mDataset\u001b[0m\u001b[0;34m\u001b[0m\u001b[0;34m\u001b[0m\u001b[0m\n\u001b[0m\u001b[1;32m      7\u001b[0m \u001b[0;32mfrom\u001b[0m \u001b[0msurprise\u001b[0m\u001b[0;34m.\u001b[0m\u001b[0mmodel_selection\u001b[0m\u001b[0;34m.\u001b[0m\u001b[0mvalidation\u001b[0m \u001b[0;32mimport\u001b[0m \u001b[0mcross_validate\u001b[0m\u001b[0;34m\u001b[0m\u001b[0;34m\u001b[0m\u001b[0m\n\u001b[1;32m      8\u001b[0m \u001b[0;32mimport\u001b[0m \u001b[0mtime\u001b[0m\u001b[0;34m\u001b[0m\u001b[0;34m\u001b[0m\u001b[0m\n",
      "\u001b[0;31mModuleNotFoundError\u001b[0m: No module named 'surprise'"
     ]
    }
   ],
   "source": [
    "\"\"\"\n",
    "http://surprise.readthedocs.io/en/stable/building_custom_algo.html\n",
    "\"\"\"\n",
    "import sys\n",
    "import numpy as np\n",
    "from surprise import AlgoBase, Dataset\n",
    "from surprise.model_selection.validation import cross_validate\n",
    "import time\n",
    "\n",
    "class GlobalMean(AlgoBase):\n",
    "    def __init__(self):\n",
    "        # Always call base method before doing anything.\n",
    "        AlgoBase.__init__(self)\n",
    "    def fit(self, trainset):\n",
    "        # Here again: call base method before doing anything.\n",
    "        AlgoBase.fit(self, trainset)\n",
    "        # Compute the average rating. We might as well use the\n",
    "        # trainset.global_mean attribute ;)\n",
    "        self.the_mean = np.mean([r for (_, _, r) in\n",
    "                                 self.trainset.all_ratings()])\n",
    "        return self\n",
    "    def estimate(self, u, i):\n",
    "        return self.the_mean\n",
    "class MeanofMeans(AlgoBase):\n",
    "    def __init__(self):\n",
    "    # Always call base method before doing anything.\n",
    "        AlgoBase.__init__(self)\n",
    "    def fit(self, trainset):\n",
    "        # Here again: call base method before doing anything.\n",
    "        AlgoBase.fit(self, trainset)\n",
    "        users = np.array([u for (u, _, _) in self.trainset.all_ratings()])\n",
    "        items = np.array([i for (_, i, _) in self.trainset.all_ratings()])\n",
    "        ratings = np.array([r for (_, _, r) in self.trainset.all_ratings()])\n",
    "        user_means,item_means = {},{}\n",
    "        for user in np.unique(users):\n",
    "            user_means[user] = ratings[users==user].mean()\n",
    "        for item in np.unique(items):\n",
    "            item_means[item] = ratings[items==item].mean()\n",
    "        self.global_mean = ratings.mean()\n",
    "        self.user_means = user_means\n",
    "        self.item_means = item_means\n",
    "    def estimate(self, u, i):\n",
    "        \"\"\"\n",
    "        return the mean of means estimate\n",
    "        \"\"\"\n",
    "        if u not in self.user_means:\n",
    "            return(np.mean([self.global_mean,\n",
    "                            self.item_means[i]]))\n",
    "        if i not in self.item_means:\n",
    "            return(np.mean([self.global_mean,\n",
    "                            self.user_means[u]]))\n",
    "        return(np.mean([self.global_mean,\n",
    "                        self.user_means[u],\n",
    "                        self.item_means[i]]))\n",
    "if __name__ == \"__main__\":\n",
    "    baseline_start=time.time()\n",
    "    data = Dataset.load_builtin('ml-100k')\n",
    "    print(\"\\nGlobal Mean...\")\n",
    "    baseline_end=time.time()\n",
    "    baseline_load=baseline_end-baseline_start\n",
    "    print(f'load time ={baseline_load}')\n",
    "    baseline_start_fit=time.time()\n",
    "    algo = GlobalMean()\n",
    "    glob = cross_validate(algo, data)\n",
    "    print('RMSE: ', np.mean(glob['test_rmse']))\n",
    "    print(\"\\nMeanOfMeans...\")\n",
    "    algo = MeanofMeans()\n",
    "    mom = cross_validate(algo, data)\n",
    "    print('RMSE: ', np.mean(mom['test_rmse']))\n",
    "    baseline_stop=time.time()\n",
    "    print(baseline_stop-baseline_start)"
   ]
  }
 ],
 "metadata": {
  "kernelspec": {
   "display_name": "Python 3",
   "language": "python",
   "name": "python3"
  },
  "language_info": {
   "codemirror_mode": {
    "name": "ipython",
    "version": 3
   },
   "file_extension": ".py",
   "mimetype": "text/x-python",
   "name": "python",
   "nbconvert_exporter": "python",
   "pygments_lexer": "ipython3",
   "version": "3.7.3"
  }
 },
 "nbformat": 4,
 "nbformat_minor": 4
}
